{
 "cells": [
  {
   "cell_type": "markdown",
   "metadata": {},
   "source": [
    "### **This code below will crawling data of products from Tiki website**\n",
    "The products' link is here: [Tiki](https://tiki.vn/dien-gia-dung/c1882)"
   ]
  },
  {
   "cell_type": "code",
   "execution_count": 4,
   "metadata": {},
   "outputs": [],
   "source": [
    "\n",
    "import requests\n",
    "import pandas as pd"
   ]
  },
  {
   "cell_type": "markdown",
   "metadata": {},
   "source": [
    "### **Create the Request class for initializing and sending request**"
   ]
  },
  {
   "cell_type": "code",
   "execution_count": 30,
   "metadata": {},
   "outputs": [],
   "source": [
    "class Request():\n",
    "    def __init__(self, headers=\"\", params=\"\", cookies=\"\") -> None:\n",
    "        self.cookies = cookies\n",
    "        self.headers = headers\n",
    "        self.params = params\n",
    "    \n",
    "    @property\n",
    "    def cookies(self):\n",
    "        return self._cookies\n",
    "    @cookies.setter\n",
    "    def cookies(self, value):\n",
    "        self._cookies = value\n",
    "        \n",
    "    @property\n",
    "    def headers(self):\n",
    "        return self._headers\n",
    "    @headers.setter\n",
    "    def headers(self, value):\n",
    "        self._headers = value\n",
    "        \n",
    "    @property\n",
    "    def params(self):\n",
    "        return self._params\n",
    "    @params.setter\n",
    "    def params(self, value):\n",
    "        self._params = value\n",
    "    \n",
    "    def request(self, url:str):\n",
    "        resp = requests.get(url, headers=self.headers, params=self.params)\n",
    "        return resp"
   ]
  },
  {
   "cell_type": "markdown",
   "metadata": {},
   "source": [
    "### **Get the all of product id of each category**"
   ]
  },
  {
   "cell_type": "markdown",
   "metadata": {},
   "source": [
    "#### *Initializing the Request object with `header` and `param` parameters*"
   ]
  },
  {
   "cell_type": "code",
   "execution_count": 28,
   "metadata": {},
   "outputs": [],
   "source": [
    "headers = {\n",
    "    'User-Agent':'Mozilla/5.0 (Windows NT 10.0; Win64; x64) AppleWebKit/537.36 (KHTML, like Gecko) Chrome/120.0.0.0 Safari/537.36',\n",
    "    'Referer': 'https://tiki.vn/dien-gia-dung/c1882',\n",
    "    'Accept': 'application/json, text/plain, */*',\n",
    "    'Accept-Language': 'vi-VN,vi;q=0.8,en-US;q=0.5,en;q=0.3',\n",
    "    'X-Guest-Token': 'r527Y1pU8EZl0BJSkKdDMwcieoAhvqFP',\n",
    "    'Connection': 'keep-alive',\n",
    "    'TE': 'Trailers'\n",
    "}\n",
    "\n",
    "params = {\n",
    "    'limit': 40,\n",
    "    'include': 'advertisement',\n",
    "    'aggregations': 2,\n",
    "    'version': 'home-persionalized',\n",
    "    'trackity_id': 'afacc84a-95b0-912f-cae8-bee2fc1771ed',\n",
    "    'category': 1882,\n",
    "    'page': 1,\n",
    "    'src': 'c1882',\n",
    "    'urlKey': 'dien-gia-dung'\n",
    "}"
   ]
  },
  {
   "cell_type": "code",
   "execution_count": 31,
   "metadata": {},
   "outputs": [],
   "source": [
    "req = Request()"
   ]
  },
  {
   "cell_type": "markdown",
   "metadata": {},
   "source": [
    "#### *Starting crawl the `product_id` from 50 pages*"
   ]
  },
  {
   "cell_type": "code",
   "execution_count": 42,
   "metadata": {},
   "outputs": [
    {
     "name": "stdout",
     "output_type": "stream",
     "text": [
      "request successed: 50\n"
     ]
    },
    {
     "data": {
      "text/html": [
       "<div>\n",
       "<style scoped>\n",
       "    .dataframe tbody tr th:only-of-type {\n",
       "        vertical-align: middle;\n",
       "    }\n",
       "\n",
       "    .dataframe tbody tr th {\n",
       "        vertical-align: top;\n",
       "    }\n",
       "\n",
       "    .dataframe thead th {\n",
       "        text-align: right;\n",
       "    }\n",
       "</style>\n",
       "<table border=\"1\" class=\"dataframe\">\n",
       "  <thead>\n",
       "    <tr style=\"text-align: right;\">\n",
       "      <th></th>\n",
       "      <th>id</th>\n",
       "    </tr>\n",
       "  </thead>\n",
       "  <tbody>\n",
       "    <tr>\n",
       "      <th>0</th>\n",
       "      <td>48962414</td>\n",
       "    </tr>\n",
       "    <tr>\n",
       "      <th>1</th>\n",
       "      <td>79561024</td>\n",
       "    </tr>\n",
       "    <tr>\n",
       "      <th>2</th>\n",
       "      <td>2393139</td>\n",
       "    </tr>\n",
       "    <tr>\n",
       "      <th>3</th>\n",
       "      <td>102432143</td>\n",
       "    </tr>\n",
       "    <tr>\n",
       "      <th>4</th>\n",
       "      <td>263488400</td>\n",
       "    </tr>\n",
       "    <tr>\n",
       "      <th>...</th>\n",
       "      <td>...</td>\n",
       "    </tr>\n",
       "    <tr>\n",
       "      <th>2025</th>\n",
       "      <td>128823103</td>\n",
       "    </tr>\n",
       "    <tr>\n",
       "      <th>2026</th>\n",
       "      <td>252678794</td>\n",
       "    </tr>\n",
       "    <tr>\n",
       "      <th>2027</th>\n",
       "      <td>17010845</td>\n",
       "    </tr>\n",
       "    <tr>\n",
       "      <th>2028</th>\n",
       "      <td>116875360</td>\n",
       "    </tr>\n",
       "    <tr>\n",
       "      <th>2029</th>\n",
       "      <td>55511817</td>\n",
       "    </tr>\n",
       "  </tbody>\n",
       "</table>\n",
       "<p>2030 rows × 1 columns</p>\n",
       "</div>"
      ],
      "text/plain": [
       "             id\n",
       "0      48962414\n",
       "1      79561024\n",
       "2       2393139\n",
       "3     102432143\n",
       "4     263488400\n",
       "...         ...\n",
       "2025  128823103\n",
       "2026  252678794\n",
       "2027   17010845\n",
       "2028  116875360\n",
       "2029   55511817\n",
       "\n",
       "[2030 rows x 1 columns]"
      ]
     },
     "execution_count": 42,
     "metadata": {},
     "output_type": "execute_result"
    }
   ],
   "source": [
    "prod_id_list = []\n",
    "request_success_times = 0\n",
    "req.headers = headers\n",
    "req.params = params\n",
    "\n",
    "for page in range(1, 51):\n",
    "    req.params['page'] = page\n",
    "    resp = req.request('https://tiki.vn/api/personalish/v1/blocks/listings')\n",
    "    if resp.status_code == 200:\n",
    "        request_success_times += 1\n",
    "        for item in resp.json().get('data'):\n",
    "            prod_id_list.append({'id':item.get('id')})\n",
    "\n",
    "print(f'request successed: {request_success_times}')\n",
    "pd.DataFrame(prod_id_list).shape"
   ]
  },
  {
   "cell_type": "markdown",
   "metadata": {},
   "source": [
    "#### *Checking the duplication*"
   ]
  },
  {
   "cell_type": "code",
   "execution_count": 43,
   "metadata": {},
   "outputs": [
    {
     "data": {
      "text/plain": [
       "False    2001\n",
       "True       29\n",
       "Name: count, dtype: int64"
      ]
     },
     "execution_count": 43,
     "metadata": {},
     "output_type": "execute_result"
    }
   ],
   "source": [
    "pd.DataFrame(prod_id_list).duplicated().value_counts()"
   ]
  },
  {
   "cell_type": "code",
   "execution_count": 44,
   "metadata": {},
   "outputs": [],
   "source": [
    "prod_id_list = pd.DataFrame(prod_id_list).drop_duplicates()['id'].to_list()"
   ]
  },
  {
   "cell_type": "markdown",
   "metadata": {},
   "source": [
    "### **Get all information of each product**"
   ]
  },
  {
   "cell_type": "code",
   "execution_count": 48,
   "metadata": {},
   "outputs": [],
   "source": [
    "headers = {\n",
    "    'User-Agent':'Mozilla/5.0 (Windows NT 10.0; Win64; x64) AppleWebKit/537.36 (KHTML, like Gecko) Chrome/120.0.0.0 Safari/537.36',\n",
    "    'Referer': 'https://tiki.vn/may-hut-bui-lock-lock-env336blk-400w-hang-chinh-hang-p66512832.html?itm_campaign=CTP_YPD_TKA_PLA_UNK_ALL_UNK_UNK_UNK_UNK_X.285509_Y.1867829_Z.3911590_CN.AUTO---May-Hut-Bui-Lock%26Lock-ENV336BLK-%28400W%29---Hang-Chinh-Hang---2024%2F01%2F10-02%3A45%3A29&itm_medium=CPC&itm_source=tiki-ads&spid=66512833',\n",
    "    'Accept': 'application/json, text/plain, */*',\n",
    "    'Accept-Language': 'vi-VN,vi;q=0.8,en-US;q=0.5,en;q=0.3',\n",
    "    'X-Guest-Token': 'r527Y1pU8EZl0BJSkKdDMwcieoAhvqFP',\n",
    "    'Connection': 'keep-alive',\n",
    "    'TE': 'Trailers'\n",
    "}\n",
    "\n",
    "params = {\n",
    "    'platform': 'web',\n",
    "    'spid': 66512833,\n",
    "    'version': 3\n",
    "}"
   ]
  },
  {
   "cell_type": "markdown",
   "metadata": {},
   "source": [
    "#### *The attributes were retrieved*\n",
    "* `id`: the id of the current sell product\n",
    "\n",
    "* `name_product`: the full name of that product\n",
    "\n",
    "* `product_id`: the id of that product\n",
    "\n",
    "* `brand_name`: the brand of that product\n",
    "\n",
    "* `category`: the type of product\n",
    "\n",
    "* `link_store`: the link references to that product's store\n",
    "\n",
    "* `store_name`: the name of that store\n",
    "\n",
    "* `final_price`: the official price\n",
    "\n",
    "* `original_price`: the initial price\n",
    "\n",
    "* `discount`: the amount of price was decreased\n",
    "\n",
    "* `discount_rate`: the percentage of that product's discount\n",
    "\n",
    "* `gift_item`: the additional item was attached\n",
    "\n",
    "* `num_review`: the number of reviews\n",
    "\n",
    "* `avg_rating`: the average of rating\n",
    "\n",
    "* `quantity_sold`: the number of items were sold"
   ]
  },
  {
   "cell_type": "markdown",
   "metadata": {},
   "source": [
    "#### *Defining a function for retrieving neccessary attributes of each product*"
   ]
  },
  {
   "cell_type": "code",
   "execution_count": 49,
   "metadata": {},
   "outputs": [],
   "source": [
    "def retrive_attrs(item):\n",
    "    info_prod = dict()\n",
    "    info_prod['id'] = item.get('id')\n",
    "    info_prod['name_product'] = item.get('name')\n",
    "    info_prod['product_id'] = item.get('current_seller').get('product_id')\n",
    "    info_prod['brand_name'] = item.get('brand').get('name')\n",
    "    info_prod['category'] = item.get('categories').get('name')\n",
    "    info_prod['store_name'] = item.get('current_seller').get('name')\n",
    "    info_prod['store_link'] = item.get('current_seller').get('link')\n",
    "    info_prod['final_price'] = item.get('price')\n",
    "    info_prod['original_price'] = item.get('original_price')\n",
    "    info_prod['discount'] = item.get('discount')\n",
    "    info_prod['discount_rate'] = item.get('discount_rate')\n",
    "    info_prod['gift_item'] = item.get('gift_item_title')\n",
    "    info_prod['num_review'] = item.get('review_count')\n",
    "    info_prod['avg_rating'] = item.get('rating_average')\n",
    "    info_prod['quantity_sold'] = item.get('all_time_quantity_sold')\n",
    "    # print(info_prod['quantity_sold'])\n",
    "    \n",
    "    return info_prod"
   ]
  },
  {
   "cell_type": "markdown",
   "metadata": {},
   "source": [
    "#### *Starting crawl the information of thoes attributes*"
   ]
  },
  {
   "cell_type": "code",
   "execution_count": 50,
   "metadata": {},
   "outputs": [
    {
     "name": "stdout",
     "output_type": "stream",
     "text": [
      "'NoneType' object has no attribute 'get'\n",
      "The number of successful requests: 1080\n",
      "The total number of requests: 2001\n",
      "The rate of requesting successfully: 0.5397301349325337\n"
     ]
    }
   ],
   "source": [
    "prod_list = []\n",
    "request_success_times = 0\n",
    "req.headers = headers\n",
    "req.params = params\n",
    "\n",
    "for pid in prod_id_list:\n",
    "    # req = requests.get('https://tiki.vn/api/v2/products/{}'.format(pid[\"id\"]), headers=headers, params=params)\n",
    "    resp = req.request('https://tiki.vn/api/v2/products/{}'.format(pid))\n",
    "    try: \n",
    "        if resp.status_code == 200 and resp.headers[\"content-type\"].strip().startswith(\"application/json\"):\n",
    "            # print('request successed')\n",
    "            item = retrive_attrs(resp.json())\n",
    "            prod_list.append(item)\n",
    "            request_success_times += 1\n",
    "    except Exception as ex:\n",
    "        print(str(ex))\n",
    "    \n",
    "print(f'The number of successful requests: {request_success_times}\\nThe total number of requests: {len(prod_id_list)}')\n",
    "print(f'The rate of requesting successfully: {request_success_times/len(prod_id_list)}')"
   ]
  },
  {
   "cell_type": "markdown",
   "metadata": {},
   "source": [
    "#### *Checking the crawling result*"
   ]
  },
  {
   "cell_type": "code",
   "execution_count": 52,
   "metadata": {},
   "outputs": [
    {
     "data": {
      "text/html": [
       "<div>\n",
       "<style scoped>\n",
       "    .dataframe tbody tr th:only-of-type {\n",
       "        vertical-align: middle;\n",
       "    }\n",
       "\n",
       "    .dataframe tbody tr th {\n",
       "        vertical-align: top;\n",
       "    }\n",
       "\n",
       "    .dataframe thead th {\n",
       "        text-align: right;\n",
       "    }\n",
       "</style>\n",
       "<table border=\"1\" class=\"dataframe\">\n",
       "  <thead>\n",
       "    <tr style=\"text-align: right;\">\n",
       "      <th></th>\n",
       "      <th>id</th>\n",
       "      <th>name_product</th>\n",
       "      <th>product_id</th>\n",
       "      <th>brand_name</th>\n",
       "      <th>category</th>\n",
       "      <th>store_name</th>\n",
       "      <th>store_link</th>\n",
       "      <th>final_price</th>\n",
       "      <th>original_price</th>\n",
       "      <th>discount</th>\n",
       "      <th>discount_rate</th>\n",
       "      <th>gift_item</th>\n",
       "      <th>num_review</th>\n",
       "      <th>avg_rating</th>\n",
       "      <th>quantity_sold</th>\n",
       "    </tr>\n",
       "  </thead>\n",
       "  <tbody>\n",
       "    <tr>\n",
       "      <th>0</th>\n",
       "      <td>48962414</td>\n",
       "      <td>Lò Vi Sóng Sharp R-208VN-WS (20L) - Hàng Chính...</td>\n",
       "      <td>48962415</td>\n",
       "      <td>Sharp</td>\n",
       "      <td>Điện Gia Dụng</td>\n",
       "      <td>Tiki Trading</td>\n",
       "      <td>https://tiki.vn/cua-hang/tiki-trading</td>\n",
       "      <td>1199000</td>\n",
       "      <td>1560000</td>\n",
       "      <td>361000</td>\n",
       "      <td>23</td>\n",
       "      <td>0 quà tặng kèm</td>\n",
       "      <td>293</td>\n",
       "      <td>4.7</td>\n",
       "      <td>1342.0</td>\n",
       "    </tr>\n",
       "    <tr>\n",
       "      <th>1</th>\n",
       "      <td>79561024</td>\n",
       "      <td>Máy làm sữa hạt, xay sinh tố và nấu đa năng Te...</td>\n",
       "      <td>79561025</td>\n",
       "      <td>Tefal</td>\n",
       "      <td>Điện Gia Dụng</td>\n",
       "      <td>Tefal Official Store - Chính hãng</td>\n",
       "      <td>https://tiki.vn/cua-hang/tefal-official-store-...</td>\n",
       "      <td>3099000</td>\n",
       "      <td>5390000</td>\n",
       "      <td>2291000</td>\n",
       "      <td>43</td>\n",
       "      <td>1 quà tặng kèm</td>\n",
       "      <td>1029</td>\n",
       "      <td>4.7</td>\n",
       "      <td>3423.0</td>\n",
       "    </tr>\n",
       "    <tr>\n",
       "      <th>2</th>\n",
       "      <td>2393139</td>\n",
       "      <td>Nồi Lẩu Điện Sunhouse SHD4521 (3L) - Hàng chín...</td>\n",
       "      <td>2393141</td>\n",
       "      <td>Sunhouse</td>\n",
       "      <td>Điện Gia Dụng</td>\n",
       "      <td>Tiki Trading</td>\n",
       "      <td>https://tiki.vn/cua-hang/tiki-trading</td>\n",
       "      <td>449000</td>\n",
       "      <td>776000</td>\n",
       "      <td>327000</td>\n",
       "      <td>42</td>\n",
       "      <td>0 quà tặng kèm</td>\n",
       "      <td>612</td>\n",
       "      <td>4.7</td>\n",
       "      <td>6551.0</td>\n",
       "    </tr>\n",
       "    <tr>\n",
       "      <th>3</th>\n",
       "      <td>102432143</td>\n",
       "      <td>Ấm Đun Siêu Tốc Inox 2 Lớp Sunhouse SHD1351 (1...</td>\n",
       "      <td>102432144</td>\n",
       "      <td>Sunhouse</td>\n",
       "      <td>Điện Gia Dụng</td>\n",
       "      <td>Tiki Trading</td>\n",
       "      <td>https://tiki.vn/cua-hang/tiki-trading</td>\n",
       "      <td>249000</td>\n",
       "      <td>422000</td>\n",
       "      <td>173000</td>\n",
       "      <td>41</td>\n",
       "      <td>0 quà tặng kèm</td>\n",
       "      <td>2250</td>\n",
       "      <td>4.7</td>\n",
       "      <td>9326.0</td>\n",
       "    </tr>\n",
       "    <tr>\n",
       "      <th>4</th>\n",
       "      <td>263488400</td>\n",
       "      <td>Nồi cơm điện tử áp suất kép Cuckoo CRP-ST1010F...</td>\n",
       "      <td>263488401</td>\n",
       "      <td>Cuckoo</td>\n",
       "      <td>Nồi cơm điện tử</td>\n",
       "      <td>CUCKOO Official Store</td>\n",
       "      <td>https://tiki.vn/cua-hang/cuckoo-official-store</td>\n",
       "      <td>4290000</td>\n",
       "      <td>7990000</td>\n",
       "      <td>3700000</td>\n",
       "      <td>46</td>\n",
       "      <td>0 quà tặng kèm</td>\n",
       "      <td>1</td>\n",
       "      <td>5.0</td>\n",
       "      <td>3.0</td>\n",
       "    </tr>\n",
       "  </tbody>\n",
       "</table>\n",
       "</div>"
      ],
      "text/plain": [
       "          id                                       name_product product_id  \\\n",
       "0   48962414  Lò Vi Sóng Sharp R-208VN-WS (20L) - Hàng Chính...   48962415   \n",
       "1   79561024  Máy làm sữa hạt, xay sinh tố và nấu đa năng Te...   79561025   \n",
       "2    2393139  Nồi Lẩu Điện Sunhouse SHD4521 (3L) - Hàng chín...    2393141   \n",
       "3  102432143  Ấm Đun Siêu Tốc Inox 2 Lớp Sunhouse SHD1351 (1...  102432144   \n",
       "4  263488400  Nồi cơm điện tử áp suất kép Cuckoo CRP-ST1010F...  263488401   \n",
       "\n",
       "  brand_name         category                         store_name  \\\n",
       "0      Sharp    Điện Gia Dụng                       Tiki Trading   \n",
       "1      Tefal    Điện Gia Dụng  Tefal Official Store - Chính hãng   \n",
       "2   Sunhouse    Điện Gia Dụng                       Tiki Trading   \n",
       "3   Sunhouse    Điện Gia Dụng                       Tiki Trading   \n",
       "4     Cuckoo  Nồi cơm điện tử              CUCKOO Official Store   \n",
       "\n",
       "                                          store_link  final_price  \\\n",
       "0              https://tiki.vn/cua-hang/tiki-trading      1199000   \n",
       "1  https://tiki.vn/cua-hang/tefal-official-store-...      3099000   \n",
       "2              https://tiki.vn/cua-hang/tiki-trading       449000   \n",
       "3              https://tiki.vn/cua-hang/tiki-trading       249000   \n",
       "4     https://tiki.vn/cua-hang/cuckoo-official-store      4290000   \n",
       "\n",
       "   original_price  discount  discount_rate       gift_item  num_review  \\\n",
       "0         1560000    361000             23  0 quà tặng kèm         293   \n",
       "1         5390000   2291000             43  1 quà tặng kèm        1029   \n",
       "2          776000    327000             42  0 quà tặng kèm         612   \n",
       "3          422000    173000             41  0 quà tặng kèm        2250   \n",
       "4         7990000   3700000             46  0 quà tặng kèm           1   \n",
       "\n",
       "   avg_rating  quantity_sold  \n",
       "0         4.7         1342.0  \n",
       "1         4.7         3423.0  \n",
       "2         4.7         6551.0  \n",
       "3         4.7         9326.0  \n",
       "4         5.0            3.0  "
      ]
     },
     "execution_count": 52,
     "metadata": {},
     "output_type": "execute_result"
    }
   ],
   "source": [
    "dienmayxanh = pd.DataFrame(prod_list)\n",
    "dienmayxanh.head(5)"
   ]
  },
  {
   "cell_type": "code",
   "execution_count": 53,
   "metadata": {},
   "outputs": [
    {
     "data": {
      "text/plain": [
       "False    1080\n",
       "Name: count, dtype: int64"
      ]
     },
     "execution_count": 53,
     "metadata": {},
     "output_type": "execute_result"
    }
   ],
   "source": [
    "dienmayxanh.duplicated().value_counts()"
   ]
  },
  {
   "cell_type": "code",
   "execution_count": 54,
   "metadata": {},
   "outputs": [
    {
     "data": {
      "text/plain": [
       "id                 0\n",
       "name_product       0\n",
       "product_id         0\n",
       "brand_name         0\n",
       "category           0\n",
       "store_name         0\n",
       "store_link         0\n",
       "final_price        0\n",
       "original_price     0\n",
       "discount           0\n",
       "discount_rate      0\n",
       "gift_item          0\n",
       "num_review         0\n",
       "avg_rating         0\n",
       "quantity_sold     41\n",
       "dtype: int64"
      ]
     },
     "execution_count": 54,
     "metadata": {},
     "output_type": "execute_result"
    }
   ],
   "source": [
    "dienmayxanh.isna().sum()"
   ]
  }
 ],
 "metadata": {
  "kernelspec": {
   "display_name": ".venv",
   "language": "python",
   "name": "python3"
  },
  "language_info": {
   "codemirror_mode": {
    "name": "ipython",
    "version": 3
   },
   "file_extension": ".py",
   "mimetype": "text/x-python",
   "name": "python",
   "nbconvert_exporter": "python",
   "pygments_lexer": "ipython3",
   "version": "3.9.13"
  }
 },
 "nbformat": 4,
 "nbformat_minor": 2
}
